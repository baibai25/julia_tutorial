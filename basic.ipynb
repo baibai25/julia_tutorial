{
 "cells": [
  {
   "cell_type": "markdown",
   "metadata": {},
   "source": [
    "# Julia tutorial"
   ]
  },
  {
   "cell_type": "code",
   "execution_count": 1,
   "metadata": {},
   "outputs": [
    {
     "name": "stdout",
     "output_type": "stream",
     "text": [
      "2\n",
      "4\n",
      "2\n",
      "1.0"
     ]
    }
   ],
   "source": [
    "x = 1\n",
    "y = 2x\n",
    "println(y)\n",
    "\n",
    "y = 2(x + 1)\n",
    "println(y)\n",
    "\n",
    "y = (x + 1)x\n",
    "println(y)\n",
    "\n",
    "# 6/2(1+2)\n",
    "x = 1+2\n",
    "y = 6/2x\n",
    "print(y)\n",
    "\n",
    "#=\n",
    "Not work\n",
    "xy\n",
    "x2\n",
    "x(1+2)\n",
    "(x+1)2\n",
    "(x+1)(x+1)\n",
    "=#"
   ]
  },
  {
   "cell_type": "code",
   "execution_count": 2,
   "metadata": {},
   "outputs": [
    {
     "name": "stdout",
     "output_type": "stream",
     "text": [
      "1 2 3 4 5 \n",
      "5 4 3 2 1 \n",
      "1 2 3 4 "
     ]
    },
    {
     "data": {
      "text/plain": [
       "5-element Array{Int64,1}:\n",
       " 10\n",
       " 11\n",
       " 12\n",
       " 13\n",
       " 14"
      ]
     },
     "execution_count": 2,
     "metadata": {},
     "output_type": "execute_result"
    }
   ],
   "source": [
    "# Loop\n",
    "for i in 1:5\n",
    "    print(\"$i \")\n",
    "end\n",
    "println()\n",
    "\n",
    "# reverse\n",
    "for i in 5:-1:1\n",
    "     print(\"$i \")\n",
    "end\n",
    "println()\n",
    "\n",
    "# array\n",
    "array = [1, 2, 3, 4]\n",
    "for i in array\n",
    "    print(\"$i \")\n",
    "end\n",
    "\n",
    "# Comprehensions\n",
    "[i for i in 10:14]"
   ]
  },
  {
   "cell_type": "code",
   "execution_count": 3,
   "metadata": {},
   "outputs": [
    {
     "name": "stdout",
     "output_type": "stream",
     "text": [
      "true\n",
      "true\n",
      "true\n",
      "x > 09 12 -2 "
     ]
    }
   ],
   "source": [
    "# If\n",
    "x = 2\n",
    "y = 5\n",
    "\n",
    "println(0<x && x<3)\n",
    "println(0 < x < 3)\n",
    "println(0 < x < 3 < y)\n",
    "\n",
    "# Default\n",
    "if 0 < x\n",
    "    print(\"x > 0\")\n",
    "elseif x < 0\n",
    "    print(\"x < 0\")\n",
    "else\n",
    "    print(\"x = 0\")\n",
    "end\n",
    "\n",
    "# ifelse function\n",
    "# ifelse(Conditional Expressions, True, False)\n",
    "shift(x) = ifelse(x > 10, x+1, x-1)\n",
    "array = [10, 11, -1]\n",
    "\n",
    "for i in array \n",
    "    print(shift(i), \" \")\n",
    "end"
   ]
  },
  {
   "cell_type": "code",
   "execution_count": 4,
   "metadata": {},
   "outputs": [
    {
     "name": "stdout",
     "output_type": "stream",
     "text": [
      "0\n",
      "1\n",
      "1\n",
      "2\n",
      "3\n",
      "5\n",
      "8\n",
      "13\n",
      "21\n",
      "34\n",
      "55\n"
     ]
    }
   ],
   "source": [
    "# Function\n",
    "function fibonacci(n::Int)\n",
    "    if n == 0\n",
    "        return 0\n",
    "    elseif n == 1\n",
    "        return 1\n",
    "    else\n",
    "        return fibonacci(n-1) + fibonacci(n-2)\n",
    "    end\n",
    "end\n",
    "\n",
    "for i in 0:10\n",
    "    println(fibonacci(i))\n",
    "end"
   ]
  },
  {
   "cell_type": "code",
   "execution_count": 5,
   "metadata": {},
   "outputs": [
    {
     "name": "stdout",
     "output_type": "stream",
     "text": [
      "π, π\n",
      "2.718281828459045, ℯ\n",
      "1\n",
      "1.4142135623730951\n",
      "1024\n",
      "3.0, 3.1\n",
      "2.302585092994046\n",
      "1.0\n",
      "3.321928094887362\n",
      "sin(π) = 0.49999999999999994, cos(π) = 0.8660254037844387, tan(π) = 0.5773502691896257\n"
     ]
    }
   ],
   "source": [
    "println(pi, \", \", π)\n",
    "println(exp(1), \", \", ℯ)\n",
    "println(abs(-1))\n",
    "println(sqrt(2))\n",
    "println(2^10)\n",
    "println(round(3.14), \", \", round(3.14, digits=1))\n",
    "\n",
    "# log\n",
    "println(log(10))\n",
    "println(log10(10))\n",
    "println(log2(10))\n",
    "\n",
    "# Trigonometric functions\n",
    "α = sin(π/6) # alpha\n",
    "β = cos(π/6) # beta\n",
    "γ = tan(π/6) # gamma\n",
    "println(\"sin(π) = $α, cos(π) = $β, tan(π) = $γ\")"
   ]
  },
  {
   "cell_type": "code",
   "execution_count": null,
   "metadata": {},
   "outputs": [],
   "source": []
  }
 ],
 "metadata": {
  "kernelspec": {
   "display_name": "Julia 1.2.0",
   "language": "julia",
   "name": "julia-1.2"
  },
  "language_info": {
   "file_extension": ".jl",
   "mimetype": "application/julia",
   "name": "julia",
   "version": "1.2.0"
  }
 },
 "nbformat": 4,
 "nbformat_minor": 4
}
